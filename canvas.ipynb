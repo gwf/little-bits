{
 "cells": [
  {
   "cell_type": "code",
   "execution_count": 11,
   "metadata": {},
   "outputs": [
    {
     "data": {
      "text/html": [
       "<style>\n",
       ".cell-output-ipywidget-background { \n",
       "  background-color: transparent !important; \n",
       "}\n",
       "</style>\n"
      ],
      "text/plain": [
       "<IPython.core.display.HTML object>"
      ]
     },
     "metadata": {},
     "output_type": "display_data"
    }
   ],
   "source": [
    "%%html\n",
    "<style>\n",
    ".cell-output-ipywidget-background { \n",
    "  background-color: transparent !important; \n",
    "}\n",
    "</style>"
   ]
  },
  {
   "cell_type": "code",
   "execution_count": 12,
   "metadata": {},
   "outputs": [],
   "source": [
    "import math, random\n",
    "from time import sleep\n",
    "from ipycanvas import Canvas, hold_canvas"
   ]
  },
  {
   "cell_type": "code",
   "execution_count": 13,
   "metadata": {},
   "outputs": [],
   "source": [
    "canvas = Canvas(width=1000, height=1000)\n",
    "canvas.layout.width = \"50%\"\n",
    "canvas.layout.height = \"auto\"\n",
    "width = canvas.width\n",
    "height = canvas.height"
   ]
  },
  {
   "cell_type": "code",
   "execution_count": 14,
   "metadata": {},
   "outputs": [],
   "source": [
    "def init():\n",
    "  global width, height, canvas\n",
    "  global sz, gap, delay, decay, pcnt, cw, ch, done, state, newstate, gray\n",
    "  sz = 10\n",
    "  gap = 1\n",
    "  decay = 0.99\n",
    "  pcnt = 0.35\n",
    "  cw = math.floor((width - gap) / (sz + gap))\n",
    "  ch = math.floor((height - gap) / (sz + gap))\n",
    "  state = []\n",
    "  newstate = []\n",
    "  gray = []\n",
    "  #\n",
    "  canvas.fill_style = \"rgb(20,20,20)\"\n",
    "  width = cw * (sz + gap) + gap\n",
    "  height = ch * (sz + gap) + gap\n",
    "  canvas.fill_rect(0, 0, width, height)\n",
    "  #\n",
    "  for i in range(ch):\n",
    "    state.append([ 0 ] * cw)\n",
    "    newstate.append([ 0 ] * cw)\n",
    "    gray.append([ 0 ] * cw)\n",
    "  for i in range(ch):\n",
    "    for j in range(cw):\n",
    "      state[i][j] = 1 if random.random() > pcnt else 0\n",
    "      gray[i][j] = 0 if state[i][j] else 255"
   ]
  },
  {
   "cell_type": "code",
   "execution_count": 15,
   "metadata": {},
   "outputs": [],
   "source": [
    "def drawCell(i, j, color):\n",
    "  global gap, sz\n",
    "  canvas.fill_style = color\n",
    "  canvas.fill_rect(gap + i * (sz + gap), gap + j * (sz + gap), sz, sz)"
   ]
  },
  {
   "cell_type": "code",
   "execution_count": 16,
   "metadata": {},
   "outputs": [],
   "source": [
    "def drawCells():\n",
    "  global state, gray, decay\n",
    "  with hold_canvas():\n",
    "    batch_x = {}\n",
    "    batch_y = {}\n",
    "    for i in range(ch):\n",
    "      for j in range(cw):\n",
    "        val = 0 if state[i][j] else 255\n",
    "        if val == 0:\n",
    "          gray[i][j] = val\n",
    "        else:\n",
    "          val = gray[i][j] = math.ceil(\n",
    "            decay * gray[i][j] + (1 - decay) * val)\n",
    "          val = math.floor(256 + (val - 256) / 2)\n",
    "        val = 255 - val\n",
    "        # color = \"rgb({},{},{})\".format(val, val, val)\n",
    "        # drawCell(i, j, color)\n",
    "        xs = batch_x.setdefault(val, [])\n",
    "        ys = batch_y.setdefault(val, [])\n",
    "        xs.append(gap + i * (sz + gap))\n",
    "        ys.append(gap + j * (sz + gap))\n",
    "    for val in batch_x:\n",
    "      xs = batch_x[val]\n",
    "      ys = batch_y[val]\n",
    "      color = \"rgb({},{},{})\".format(val, val, val)\n",
    "      canvas.fill_style = color\n",
    "      canvas.fill_rects(xs, ys, sz)"
   ]
  },
  {
   "cell_type": "code",
   "execution_count": 17,
   "metadata": {},
   "outputs": [],
   "source": [
    "def updateState():\n",
    "  global state, newstate\n",
    "  for i in range(ch):\n",
    "    for j in range(cw):\n",
    "      sum = 0\n",
    "      for k in range(-1, 2):\n",
    "        for l in range(-1, 2):\n",
    "          if k == 0 and l == 0: continue\n",
    "          ni = (i + k + ch) % ch\n",
    "          nj = (j + l + cw) % cw\n",
    "          sum += state[ni][nj]\n",
    "      if sum < 2 or sum > 3:\n",
    "        newstate[i][j] = 0\n",
    "      elif sum == 3:\n",
    "        newstate[i][j] = 1\n",
    "      else:\n",
    "        newstate[i][j] = state[i][j]\n",
    "  temp = state\n",
    "  state = newstate\n",
    "  newstate = temp"
   ]
  },
  {
   "cell_type": "code",
   "execution_count": 18,
   "metadata": {},
   "outputs": [
    {
     "data": {
      "application/vnd.jupyter.widget-view+json": {
       "model_id": "762fb32bedf94c4dbd7f2105103437d6",
       "version_major": 2,
       "version_minor": 0
      },
      "text/plain": [
       "Canvas(height=1000, layout=Layout(height='auto', width='50%'), width=1000)"
      ]
     },
     "metadata": {},
     "output_type": "display_data"
    }
   ],
   "source": [
    "def loop():\n",
    "  updateState()\n",
    "  drawCells()\n",
    "  canvas.sleep(10)\n",
    "  sleep(0.010)\n",
    "\n",
    "def run(doinit, n):\n",
    "  if doinit: init()\n",
    "  for i in range(n): loop()\n",
    "\n",
    "run(1, 0)\n",
    "canvas"
   ]
  },
  {
   "cell_type": "code",
   "execution_count": 19,
   "metadata": {},
   "outputs": [],
   "source": [
    "run(0, 100)"
   ]
  }
 ],
 "metadata": {
  "kernelspec": {
   "display_name": "Python 3.10.5 64-bit",
   "language": "python",
   "name": "python3"
  },
  "language_info": {
   "codemirror_mode": {
    "name": "ipython",
    "version": 3
   },
   "file_extension": ".py",
   "mimetype": "text/x-python",
   "name": "python",
   "nbconvert_exporter": "python",
   "pygments_lexer": "ipython3",
   "version": "3.10.5"
  },
  "orig_nbformat": 4,
  "vscode": {
   "interpreter": {
    "hash": "7a792fcb311f9eb9f3c1b942a8c87ada8484712b89b670347c16a1088e0a1f69"
   }
  }
 },
 "nbformat": 4,
 "nbformat_minor": 2
}
