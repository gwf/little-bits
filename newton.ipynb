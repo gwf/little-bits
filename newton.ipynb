{
 "cells": [
  {
   "cell_type": "markdown",
   "metadata": {},
   "source": [
    "### Calculating arbitrary roots with Newton's method\n",
    "\n",
    "Given an input $x$ and a root $r$, the function `root(x, r)` will return\n",
    "the $r_{th}$ root of $x$ via Newton's method.\n",
    "\n",
    "The procedure works through a generic function, $f$, that is constructed\n",
    "such that a zero of $f$ is the root that we are seeking.  More\n",
    "specifically, define:\n",
    "$$ f(z,r,x) = z^r - x$$\n",
    "\n",
    "A choice of $z$ that makes $f$ zero must be the $r_{th}$ root of $x$\n",
    "because:\n",
    "$$ z^r - x = 0 \\\\\n",
    "  z^r = x \\\\\n",
    "  z = x^{1/r} \\\\\n",
    "  z = \\sqrt[r]{x}\n",
    "$$\n",
    "\n",
    "From a guess, $z_t$, Newton's method will make a new guess, $z_{t+1}$, via:\n",
    "$$ z_{t+1} = z_t - \\frac{f(z_t, r, x)}{f'(z_t, r, x)}\n",
    "= \\frac{z^r-x}{rz^{r-1}}\n",
    "$$"
   ]
  },
  {
   "cell_type": "code",
   "execution_count": 5,
   "metadata": {},
   "outputs": [],
   "source": [
    "def zero_function(z, r, x):\n",
    "  return z**r - x\n",
    "\n",
    "def zero_function_derivative(z, r, x):\n",
    "  return r * z ** (r - 1)\n",
    "\n",
    "def newton_step(z, r, x):\n",
    "  return z - zero_function(z, r, x) / zero_function_derivative(z, r, x)"
   ]
  },
  {
   "cell_type": "code",
   "execution_count": 6,
   "metadata": {},
   "outputs": [],
   "source": [
    "def print_stats(step, x, r, z):\n",
    "  fmt = \"{:d} \\t {:.10f} \\t {:.10f}\"\n",
    "  print(fmt.format(step, z, z ** r))"
   ]
  },
  {
   "cell_type": "code",
   "execution_count": 10,
   "metadata": {},
   "outputs": [],
   "source": [
    "nth_suffix = { 1: \"st\",  2: \"nd\", 3: \"rd\" }\n",
    "\n",
    "def root(x, r):\n",
    "  nth = nth_suffix[r] if r in nth_suffix else \"th\"\n",
    "  print(\"Calculating the {:d}{:s} root of {:.2f}\".format(r, nth, x))\n",
    "  z = x / r\n",
    "  max_steps = 10\n",
    "  eps = 1e-20\n",
    "  for step in range(max_steps):\n",
    "    next_z = newton_step(z, r, x)\n",
    "    delta = (z - next_z) ** 2\n",
    "    if delta < eps: break\n",
    "    print_stats(step, x, r, next_z)\n",
    "    z = next_z\n",
    "  return z"
   ]
  },
  {
   "cell_type": "code",
   "execution_count": 12,
   "metadata": {},
   "outputs": [
    {
     "name": "stdout",
     "output_type": "stream",
     "text": [
      "Calculating the 5th root of 27.00\n",
      "0 \t 4.3263506579 \t 1515.6837138465\n",
      "1 \t 3.4764942260 \t 507.8173818799\n",
      "2 \t 2.8181635302 \t 177.7587354121\n",
      "3 \t 2.3401417114 \t 70.1795838140\n",
      "4 \t 2.0521766376 \t 36.3976794619\n",
      "5 \t 1.9462045068 \t 27.9217329834\n",
      "6 \t 1.9333551548 \t 27.0120909538\n",
      "7 \t 1.9331820759 \t 27.0000021646\n",
      "8 \t 1.9331820449 \t 27.0000000000\n"
     ]
    },
    {
     "data": {
      "text/plain": [
       "1.9331820449317638"
      ]
     },
     "execution_count": 12,
     "metadata": {},
     "output_type": "execute_result"
    }
   ],
   "source": [
    "root(27, 5)"
   ]
  },
  {
   "cell_type": "code",
   "execution_count": null,
   "metadata": {},
   "outputs": [],
   "source": []
  }
 ],
 "metadata": {
  "interpreter": {
   "hash": "7a792fcb311f9eb9f3c1b942a8c87ada8484712b89b670347c16a1088e0a1f69"
  },
  "kernelspec": {
   "display_name": "Python 3.10.2 64-bit",
   "language": "python",
   "name": "python3"
  },
  "language_info": {
   "codemirror_mode": {
    "name": "ipython",
    "version": 3
   },
   "file_extension": ".py",
   "mimetype": "text/x-python",
   "name": "python",
   "nbconvert_exporter": "python",
   "pygments_lexer": "ipython3",
   "version": "3.10.2"
  },
  "orig_nbformat": 4
 },
 "nbformat": 4,
 "nbformat_minor": 2
}
